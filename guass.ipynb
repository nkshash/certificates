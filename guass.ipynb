{
  "nbformat": 4,
  "nbformat_minor": 0,
  "metadata": {
    "colab": {
      "name": "guass.ipynb",
      "provenance": [],
      "authorship_tag": "ABX9TyNMq9BT8D5qUgOVr6rbZj5j",
      "include_colab_link": true
    },
    "kernelspec": {
      "name": "python3",
      "display_name": "Python 3"
    },
    "language_info": {
      "name": "python"
    }
  },
  "cells": [
    {
      "cell_type": "markdown",
      "metadata": {
        "id": "view-in-github",
        "colab_type": "text"
      },
      "source": [
        "<a href=\"https://colab.research.google.com/github/nkshash/certificates/blob/main/guass.ipynb\" target=\"_parent\"><img src=\"https://colab.research.google.com/assets/colab-badge.svg\" alt=\"Open In Colab\"/></a>"
      ]
    },
    {
      "cell_type": "code",
      "source": [
        "c=int(input('enter no of rows'))\n",
        "m1=[]\n",
        "for i in range(c):          \n",
        "    a =[]\n",
        "    for j in range(c):      \n",
        "         a.append(float(input()))\n",
        "    m1.append(a)\n",
        "print(m1)\n",
        "import numpy as np\n",
        "a = np.array(m1)\n",
        "print (a)"
      ],
      "metadata": {
        "id": "Q7fRmbtw3wu0"
      },
      "execution_count": null,
      "outputs": []
    },
    {
      "cell_type": "code",
      "source": [
        "\n",
        "#determinant calculation (pivot method)\n",
        "def det(mat, N):\n",
        "  print(mat)\n",
        "  m=1\n",
        "  if(N==2):\n",
        "    return (mat[0][0]*mat[1][1]-mat[0][1]*mat[1][0])\n",
        "  if(mat[0][0]==0):\n",
        "    for i in range(N):\n",
        "      if (i==N):\n",
        "        return 0\n",
        "      if(mat[i][0]!=0):\n",
        "        m=-1\n",
        "        mat[[0,i]]==mat[[i,0]]\n",
        "        break\n",
        "  \n",
        "  p=mat[0][0]\n",
        "  d=pow(p,N-2)\n",
        "   \n",
        "  M = []\n",
        "  for i in range(1,N):\n",
        "    a=[] \n",
        "    for j in range(1,N):\n",
        "        \n",
        "      a.append(mat[0][0] * mat[i][j] - mat[i][0] * mat[0][j])\n",
        "    M.append(a)\n",
        " \n",
        "  a = np.array(M)\n",
        "  \n",
        "  val=m*1/d*det(a, N-1)\n",
        "  return val\n",
        "c=4\n",
        "d=det(a, c)\n",
        "print(d)\n",
        "        \n",
        "\n",
        "\n",
        "            \n",
        "\n",
        "\n",
        "\n",
        "        \n",
        "\n"
      ],
      "metadata": {
        "id": "mAwytCYD0EFt"
      },
      "execution_count": null,
      "outputs": []
    },
    {
      "cell_type": "code",
      "source": [
        "a=( [ 1,1/2,1/3,1/4 ],\n",
        "      [ 1/2,1/3,1/4,1/5 ],\n",
        "      [ 1/3,1/4,1/5,1/6 ],\n",
        "   [1/4,1/5,1/6,1/7] )\n",
        "print (a)"
      ],
      "metadata": {
        "id": "9uqnpcolMgNh"
      },
      "execution_count": null,
      "outputs": []
    },
    {
      "cell_type": "code",
      "source": [
        "b=np.array([[1/6],[1/7],[1/8],[1/9]])"
      ],
      "metadata": {
        "id": "IY7Af1Z0ojZN"
      },
      "execution_count": 291,
      "outputs": []
    },
    {
      "cell_type": "code",
      "source": [
        "a=([1,1,0,1],[2,1,-1,1],[-1,2,3,-1],[3,-1,-1,2])\n",
        "b=([2],[1],[4],[-3])\n"
      ],
      "metadata": {
        "id": "JeEcfM0GQIed"
      },
      "execution_count": 320,
      "outputs": []
    },
    {
      "cell_type": "code",
      "source": [
        "#Guassian Elimination\n",
        "\n",
        "def fun(mat,N,b):\n",
        "  count=0\n",
        "  for i in range(0,N):\n",
        "    if(mat[i][i]==0):\n",
        "      for j in range(i+1,N):\n",
        "        if(mat[j][i]!=0):\n",
        "          count=count+1\n",
        "          mat[[i,j]]=mat[[j,i]]\n",
        "          b[[i,j]]=b[[j,i]]\n",
        "    b[i]=b[i]/mat[i][i]  \n",
        "    mat[i]=mat[i]/mat[i][i]\n",
        "\n",
        "   \n",
        "     \n",
        "    for k in range(i+1,N):\n",
        "      b[k]=b[k]-b[i]*mat[k][i]\n",
        "      mat[k]=mat[k]-mat[i]*mat[k][i]\n",
        "      \n",
        " \n",
        "  print(count)\n",
        "  mat = np.append(mat, b, axis=1)\n",
        "  return mat\n",
        " \n",
        "\n",
        "s=np.array(a)\n",
        "b=np.array(b)\n",
        "s=s.astype(np.float)\n",
        "b=b.astype(np.float)\n",
        "print(s)\n",
        "ans=fun (s,4,b)\n",
        "\n"
      ],
      "metadata": {
        "id": "jRDsJ68qSIq7"
      },
      "execution_count": null,
      "outputs": []
    },
    {
      "cell_type": "code",
      "source": [
        "#value of x\n",
        "x=np.zeros((4,1))\n",
        "print(x)\n",
        "n=4\n",
        "x[n-1] = ans[n-1][n]/ans[n-1][n-1]\n",
        "\n",
        "for i in range(n-2,-1,-1):\n",
        "    x[i] = ans[i][n]\n",
        "    \n",
        "    for j in range(i+1,n):\n",
        "        x[i] = x[i] - ans[i][j]*x[j]\n",
        "    \n",
        "    x[i] = x[i]/ans[i][i]\n",
        "  \n",
        "print(x)"
      ],
      "metadata": {
        "id": "qc38pRlVIF2q"
      },
      "execution_count": null,
      "outputs": []
    },
    {
      "cell_type": "code",
      "source": [
        "#jacobi method\n"
      ],
      "metadata": {
        "id": "7_VSmqJeXpmv"
      },
      "execution_count": null,
      "outputs": []
    }
  ]
}